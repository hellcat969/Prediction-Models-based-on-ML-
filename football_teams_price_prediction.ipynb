{
 "cells": [
  {
   "cell_type": "code",
   "execution_count": 104,
   "metadata": {},
   "outputs": [],
   "source": [
    "import pandas as pd\n",
    "import numpy as np\n",
    "import matplotlib.pyplot as plt"
   ]
  },
  {
   "cell_type": "code",
   "execution_count": 105,
   "metadata": {},
   "outputs": [
    {
     "data": {
      "text/html": [
       "<div>\n",
       "<style scoped>\n",
       "    .dataframe tbody tr th:only-of-type {\n",
       "        vertical-align: middle;\n",
       "    }\n",
       "\n",
       "    .dataframe tbody tr th {\n",
       "        vertical-align: top;\n",
       "    }\n",
       "\n",
       "    .dataframe thead th {\n",
       "        text-align: right;\n",
       "    }\n",
       "</style>\n",
       "<table border=\"1\" class=\"dataframe\">\n",
       "  <thead>\n",
       "    <tr style=\"text-align: right;\">\n",
       "      <th></th>\n",
       "      <th>AveragePlayerAge</th>\n",
       "      <th>TotalGoalsLastSeason</th>\n",
       "      <th>MatchesWonLastSeason</th>\n",
       "      <th>MatchesDrawnLastSeason</th>\n",
       "      <th>MatchesLostLastSeason</th>\n",
       "      <th>TotalGoalsConcededLastSeason</th>\n",
       "      <th>TotalRevenueLastSeason</th>\n",
       "      <th>StadiumCapacity</th>\n",
       "      <th>AverageAttendance</th>\n",
       "      <th>TransferSpendingLastSeason</th>\n",
       "      <th>...</th>\n",
       "      <th>Country</th>\n",
       "      <th>Manager</th>\n",
       "      <th>TeamFormation</th>\n",
       "      <th>PlayingStyle</th>\n",
       "      <th>HomeCity</th>\n",
       "      <th>StadiumType</th>\n",
       "      <th>MainSponsor</th>\n",
       "      <th>KitManufacturer</th>\n",
       "      <th>OwnershipType</th>\n",
       "      <th>Price</th>\n",
       "    </tr>\n",
       "  </thead>\n",
       "  <tbody>\n",
       "    <tr>\n",
       "      <th>0</th>\n",
       "      <td>24.367182</td>\n",
       "      <td>28</td>\n",
       "      <td>16</td>\n",
       "      <td>36</td>\n",
       "      <td>20</td>\n",
       "      <td>51</td>\n",
       "      <td>337.552001</td>\n",
       "      <td>55766</td>\n",
       "      <td>5229.74272</td>\n",
       "      <td>177.592126</td>\n",
       "      <td>...</td>\n",
       "      <td>England</td>\n",
       "      <td>Manager B</td>\n",
       "      <td>4-2-3-1</td>\n",
       "      <td>Counter-Attack</td>\n",
       "      <td>City C</td>\n",
       "      <td>Multipurpose</td>\n",
       "      <td>Sponsor B</td>\n",
       "      <td>Manufacturer B</td>\n",
       "      <td>Private</td>\n",
       "      <td>43,751,816</td>\n",
       "    </tr>\n",
       "    <tr>\n",
       "      <th>1</th>\n",
       "      <td>34.162143</td>\n",
       "      <td>89</td>\n",
       "      <td>12</td>\n",
       "      <td>35</td>\n",
       "      <td>31</td>\n",
       "      <td>84</td>\n",
       "      <td>264.850402</td>\n",
       "      <td>15307</td>\n",
       "      <td>46172.73888</td>\n",
       "      <td>125.441952</td>\n",
       "      <td>...</td>\n",
       "      <td>Spain</td>\n",
       "      <td>Manager C</td>\n",
       "      <td>3/4/2003</td>\n",
       "      <td>Defensive</td>\n",
       "      <td>City C</td>\n",
       "      <td>Multipurpose</td>\n",
       "      <td>Sponsor A</td>\n",
       "      <td>Manufacturer B</td>\n",
       "      <td>Consortium</td>\n",
       "      <td>859,750,388</td>\n",
       "    </tr>\n",
       "    <tr>\n",
       "      <th>2</th>\n",
       "      <td>30.443897</td>\n",
       "      <td>43</td>\n",
       "      <td>3</td>\n",
       "      <td>9</td>\n",
       "      <td>28</td>\n",
       "      <td>72</td>\n",
       "      <td>363.423205</td>\n",
       "      <td>77050</td>\n",
       "      <td>78334.25499</td>\n",
       "      <td>43.776137</td>\n",
       "      <td>...</td>\n",
       "      <td>Spain</td>\n",
       "      <td>Manager C</td>\n",
       "      <td>3/5/2002</td>\n",
       "      <td>Attacking</td>\n",
       "      <td>City D</td>\n",
       "      <td>Classic</td>\n",
       "      <td>Sponsor A</td>\n",
       "      <td>Manufacturer C</td>\n",
       "      <td>Consortium</td>\n",
       "      <td>2,168,913,729</td>\n",
       "    </tr>\n",
       "    <tr>\n",
       "      <th>3</th>\n",
       "      <td>28.177194</td>\n",
       "      <td>84</td>\n",
       "      <td>19</td>\n",
       "      <td>19</td>\n",
       "      <td>34</td>\n",
       "      <td>22</td>\n",
       "      <td>296.719959</td>\n",
       "      <td>61440</td>\n",
       "      <td>60080.42382</td>\n",
       "      <td>183.936395</td>\n",
       "      <td>...</td>\n",
       "      <td>Italy</td>\n",
       "      <td>Manager C</td>\n",
       "      <td>4/3/2003</td>\n",
       "      <td>Counter-Attack</td>\n",
       "      <td>City C</td>\n",
       "      <td>Classic</td>\n",
       "      <td>Sponsor D</td>\n",
       "      <td>Manufacturer B</td>\n",
       "      <td>Consortium</td>\n",
       "      <td>1,426,481,894</td>\n",
       "    </tr>\n",
       "    <tr>\n",
       "      <th>4</th>\n",
       "      <td>20.652317</td>\n",
       "      <td>36</td>\n",
       "      <td>36</td>\n",
       "      <td>10</td>\n",
       "      <td>9</td>\n",
       "      <td>80</td>\n",
       "      <td>480.928532</td>\n",
       "      <td>78563</td>\n",
       "      <td>10940.95051</td>\n",
       "      <td>14.881518</td>\n",
       "      <td>...</td>\n",
       "      <td>France</td>\n",
       "      <td>Manager D</td>\n",
       "      <td>4-2-3-1</td>\n",
       "      <td>Counter-Attack</td>\n",
       "      <td>City D</td>\n",
       "      <td>Historical</td>\n",
       "      <td>Sponsor C</td>\n",
       "      <td>Manufacturer B</td>\n",
       "      <td>Consortium</td>\n",
       "      <td>4,038,110,631</td>\n",
       "    </tr>\n",
       "  </tbody>\n",
       "</table>\n",
       "<p>5 rows × 26 columns</p>\n",
       "</div>"
      ],
      "text/plain": [
       "   AveragePlayerAge  TotalGoalsLastSeason  MatchesWonLastSeason  \\\n",
       "0         24.367182                    28                    16   \n",
       "1         34.162143                    89                    12   \n",
       "2         30.443897                    43                     3   \n",
       "3         28.177194                    84                    19   \n",
       "4         20.652317                    36                    36   \n",
       "\n",
       "   MatchesDrawnLastSeason  MatchesLostLastSeason  \\\n",
       "0                      36                     20   \n",
       "1                      35                     31   \n",
       "2                       9                     28   \n",
       "3                      19                     34   \n",
       "4                      10                      9   \n",
       "\n",
       "   TotalGoalsConcededLastSeason  TotalRevenueLastSeason  StadiumCapacity  \\\n",
       "0                            51              337.552001            55766   \n",
       "1                            84              264.850402            15307   \n",
       "2                            72              363.423205            77050   \n",
       "3                            22              296.719959            61440   \n",
       "4                            80              480.928532            78563   \n",
       "\n",
       "   AverageAttendance  TransferSpendingLastSeason  ...  Country    Manager  \\\n",
       "0         5229.74272                  177.592126  ...  England  Manager B   \n",
       "1        46172.73888                  125.441952  ...    Spain  Manager C   \n",
       "2        78334.25499                   43.776137  ...    Spain  Manager C   \n",
       "3        60080.42382                  183.936395  ...    Italy  Manager C   \n",
       "4        10940.95051                   14.881518  ...   France  Manager D   \n",
       "\n",
       "   TeamFormation    PlayingStyle  HomeCity   StadiumType MainSponsor  \\\n",
       "0        4-2-3-1  Counter-Attack    City C  Multipurpose   Sponsor B   \n",
       "1       3/4/2003       Defensive    City C  Multipurpose   Sponsor A   \n",
       "2       3/5/2002       Attacking    City D       Classic   Sponsor A   \n",
       "3       4/3/2003  Counter-Attack    City C       Classic   Sponsor D   \n",
       "4        4-2-3-1  Counter-Attack    City D    Historical   Sponsor C   \n",
       "\n",
       "  KitManufacturer OwnershipType          Price  \n",
       "0  Manufacturer B       Private     43,751,816  \n",
       "1  Manufacturer B    Consortium    859,750,388  \n",
       "2  Manufacturer C    Consortium  2,168,913,729  \n",
       "3  Manufacturer B    Consortium  1,426,481,894  \n",
       "4  Manufacturer B    Consortium  4,038,110,631  \n",
       "\n",
       "[5 rows x 26 columns]"
      ]
     },
     "execution_count": 105,
     "metadata": {},
     "output_type": "execute_result"
    }
   ],
   "source": [
    "df = pd.read_csv('Football_teams_price_data.csv')\n",
    "df.head(5)"
   ]
  },
  {
   "cell_type": "code",
   "execution_count": 106,
   "metadata": {},
   "outputs": [
    {
     "data": {
      "text/plain": [
       "(50000, 26)"
      ]
     },
     "execution_count": 106,
     "metadata": {},
     "output_type": "execute_result"
    }
   ],
   "source": [
    "df.shape"
   ]
  },
  {
   "cell_type": "code",
   "execution_count": 107,
   "metadata": {},
   "outputs": [
    {
     "data": {
      "text/plain": [
       "Index(['AveragePlayerAge', 'TotalGoalsLastSeason', 'MatchesWonLastSeason',\n",
       "       'MatchesDrawnLastSeason', 'MatchesLostLastSeason',\n",
       "       'TotalGoalsConcededLastSeason', 'TotalRevenueLastSeason',\n",
       "       'StadiumCapacity', 'AverageAttendance', 'TransferSpendingLastSeason',\n",
       "       'TransferIncomeLastSeason', 'NumberOfTrophies', 'MarketValueOfSquad',\n",
       "       'AveragePlayerMarketValue', 'YouthAcademyRating', 'League', 'Country',\n",
       "       'Manager', 'TeamFormation', 'PlayingStyle', 'HomeCity', 'StadiumType',\n",
       "       'MainSponsor', 'KitManufacturer', 'OwnershipType', 'Price'],\n",
       "      dtype='object')"
      ]
     },
     "execution_count": 107,
     "metadata": {},
     "output_type": "execute_result"
    }
   ],
   "source": [
    "df.columns"
   ]
  },
  {
   "cell_type": "code",
   "execution_count": 108,
   "metadata": {},
   "outputs": [
    {
     "data": {
      "text/html": [
       "<div>\n",
       "<style scoped>\n",
       "    .dataframe tbody tr th:only-of-type {\n",
       "        vertical-align: middle;\n",
       "    }\n",
       "\n",
       "    .dataframe tbody tr th {\n",
       "        vertical-align: top;\n",
       "    }\n",
       "\n",
       "    .dataframe thead th {\n",
       "        text-align: right;\n",
       "    }\n",
       "</style>\n",
       "<table border=\"1\" class=\"dataframe\">\n",
       "  <thead>\n",
       "    <tr style=\"text-align: right;\">\n",
       "      <th></th>\n",
       "      <th>AveragePlayerAge</th>\n",
       "      <th>TotalGoalsLastSeason</th>\n",
       "      <th>MatchesWonLastSeason</th>\n",
       "      <th>MatchesDrawnLastSeason</th>\n",
       "      <th>MatchesLostLastSeason</th>\n",
       "      <th>TotalGoalsConcededLastSeason</th>\n",
       "      <th>TotalRevenueLastSeason</th>\n",
       "      <th>AverageAttendance</th>\n",
       "      <th>TransferSpendingLastSeason</th>\n",
       "      <th>TransferIncomeLastSeason</th>\n",
       "      <th>...</th>\n",
       "      <th>Country</th>\n",
       "      <th>Manager</th>\n",
       "      <th>TeamFormation</th>\n",
       "      <th>PlayingStyle</th>\n",
       "      <th>HomeCity</th>\n",
       "      <th>StadiumType</th>\n",
       "      <th>MainSponsor</th>\n",
       "      <th>KitManufacturer</th>\n",
       "      <th>OwnershipType</th>\n",
       "      <th>Price</th>\n",
       "    </tr>\n",
       "  </thead>\n",
       "  <tbody>\n",
       "    <tr>\n",
       "      <th>0</th>\n",
       "      <td>24.367182</td>\n",
       "      <td>28</td>\n",
       "      <td>16</td>\n",
       "      <td>36</td>\n",
       "      <td>20</td>\n",
       "      <td>51</td>\n",
       "      <td>337.552001</td>\n",
       "      <td>5229.74272</td>\n",
       "      <td>177.592126</td>\n",
       "      <td>79.972750</td>\n",
       "      <td>...</td>\n",
       "      <td>England</td>\n",
       "      <td>Manager B</td>\n",
       "      <td>4-2-3-1</td>\n",
       "      <td>Counter-Attack</td>\n",
       "      <td>City C</td>\n",
       "      <td>Multipurpose</td>\n",
       "      <td>Sponsor B</td>\n",
       "      <td>Manufacturer B</td>\n",
       "      <td>Private</td>\n",
       "      <td>43,751,816</td>\n",
       "    </tr>\n",
       "    <tr>\n",
       "      <th>1</th>\n",
       "      <td>34.162143</td>\n",
       "      <td>89</td>\n",
       "      <td>12</td>\n",
       "      <td>35</td>\n",
       "      <td>31</td>\n",
       "      <td>84</td>\n",
       "      <td>264.850402</td>\n",
       "      <td>46172.73888</td>\n",
       "      <td>125.441952</td>\n",
       "      <td>7.679349</td>\n",
       "      <td>...</td>\n",
       "      <td>Spain</td>\n",
       "      <td>Manager C</td>\n",
       "      <td>3/4/2003</td>\n",
       "      <td>Defensive</td>\n",
       "      <td>City C</td>\n",
       "      <td>Multipurpose</td>\n",
       "      <td>Sponsor A</td>\n",
       "      <td>Manufacturer B</td>\n",
       "      <td>Consortium</td>\n",
       "      <td>859,750,388</td>\n",
       "    </tr>\n",
       "    <tr>\n",
       "      <th>2</th>\n",
       "      <td>30.443897</td>\n",
       "      <td>43</td>\n",
       "      <td>3</td>\n",
       "      <td>9</td>\n",
       "      <td>28</td>\n",
       "      <td>72</td>\n",
       "      <td>363.423205</td>\n",
       "      <td>78334.25499</td>\n",
       "      <td>43.776137</td>\n",
       "      <td>136.648762</td>\n",
       "      <td>...</td>\n",
       "      <td>Spain</td>\n",
       "      <td>Manager C</td>\n",
       "      <td>3/5/2002</td>\n",
       "      <td>Attacking</td>\n",
       "      <td>City D</td>\n",
       "      <td>Classic</td>\n",
       "      <td>Sponsor A</td>\n",
       "      <td>Manufacturer C</td>\n",
       "      <td>Consortium</td>\n",
       "      <td>2,168,913,729</td>\n",
       "    </tr>\n",
       "    <tr>\n",
       "      <th>3</th>\n",
       "      <td>28.177194</td>\n",
       "      <td>84</td>\n",
       "      <td>19</td>\n",
       "      <td>19</td>\n",
       "      <td>34</td>\n",
       "      <td>22</td>\n",
       "      <td>296.719959</td>\n",
       "      <td>60080.42382</td>\n",
       "      <td>183.936395</td>\n",
       "      <td>168.683160</td>\n",
       "      <td>...</td>\n",
       "      <td>Italy</td>\n",
       "      <td>Manager C</td>\n",
       "      <td>4/3/2003</td>\n",
       "      <td>Counter-Attack</td>\n",
       "      <td>City C</td>\n",
       "      <td>Classic</td>\n",
       "      <td>Sponsor D</td>\n",
       "      <td>Manufacturer B</td>\n",
       "      <td>Consortium</td>\n",
       "      <td>1,426,481,894</td>\n",
       "    </tr>\n",
       "    <tr>\n",
       "      <th>4</th>\n",
       "      <td>20.652317</td>\n",
       "      <td>36</td>\n",
       "      <td>36</td>\n",
       "      <td>10</td>\n",
       "      <td>9</td>\n",
       "      <td>80</td>\n",
       "      <td>480.928532</td>\n",
       "      <td>10940.95051</td>\n",
       "      <td>14.881518</td>\n",
       "      <td>188.768072</td>\n",
       "      <td>...</td>\n",
       "      <td>France</td>\n",
       "      <td>Manager D</td>\n",
       "      <td>4-2-3-1</td>\n",
       "      <td>Counter-Attack</td>\n",
       "      <td>City D</td>\n",
       "      <td>Historical</td>\n",
       "      <td>Sponsor C</td>\n",
       "      <td>Manufacturer B</td>\n",
       "      <td>Consortium</td>\n",
       "      <td>4,038,110,631</td>\n",
       "    </tr>\n",
       "  </tbody>\n",
       "</table>\n",
       "<p>5 rows × 25 columns</p>\n",
       "</div>"
      ],
      "text/plain": [
       "   AveragePlayerAge  TotalGoalsLastSeason  MatchesWonLastSeason  \\\n",
       "0         24.367182                    28                    16   \n",
       "1         34.162143                    89                    12   \n",
       "2         30.443897                    43                     3   \n",
       "3         28.177194                    84                    19   \n",
       "4         20.652317                    36                    36   \n",
       "\n",
       "   MatchesDrawnLastSeason  MatchesLostLastSeason  \\\n",
       "0                      36                     20   \n",
       "1                      35                     31   \n",
       "2                       9                     28   \n",
       "3                      19                     34   \n",
       "4                      10                      9   \n",
       "\n",
       "   TotalGoalsConcededLastSeason  TotalRevenueLastSeason  AverageAttendance  \\\n",
       "0                            51              337.552001         5229.74272   \n",
       "1                            84              264.850402        46172.73888   \n",
       "2                            72              363.423205        78334.25499   \n",
       "3                            22              296.719959        60080.42382   \n",
       "4                            80              480.928532        10940.95051   \n",
       "\n",
       "   TransferSpendingLastSeason  TransferIncomeLastSeason  ...  Country  \\\n",
       "0                  177.592126                 79.972750  ...  England   \n",
       "1                  125.441952                  7.679349  ...    Spain   \n",
       "2                   43.776137                136.648762  ...    Spain   \n",
       "3                  183.936395                168.683160  ...    Italy   \n",
       "4                   14.881518                188.768072  ...   France   \n",
       "\n",
       "     Manager  TeamFormation    PlayingStyle HomeCity   StadiumType  \\\n",
       "0  Manager B        4-2-3-1  Counter-Attack   City C  Multipurpose   \n",
       "1  Manager C       3/4/2003       Defensive   City C  Multipurpose   \n",
       "2  Manager C       3/5/2002       Attacking   City D       Classic   \n",
       "3  Manager C       4/3/2003  Counter-Attack   City C       Classic   \n",
       "4  Manager D        4-2-3-1  Counter-Attack   City D    Historical   \n",
       "\n",
       "  MainSponsor KitManufacturer OwnershipType          Price  \n",
       "0   Sponsor B  Manufacturer B       Private     43,751,816  \n",
       "1   Sponsor A  Manufacturer B    Consortium    859,750,388  \n",
       "2   Sponsor A  Manufacturer C    Consortium  2,168,913,729  \n",
       "3   Sponsor D  Manufacturer B    Consortium  1,426,481,894  \n",
       "4   Sponsor C  Manufacturer B    Consortium  4,038,110,631  \n",
       "\n",
       "[5 rows x 25 columns]"
      ]
     },
     "execution_count": 108,
     "metadata": {},
     "output_type": "execute_result"
    }
   ],
   "source": [
    "df1 = df.drop('StadiumCapacity',axis = 'columns')\n",
    "df1.head(5)"
   ]
  },
  {
   "cell_type": "code",
   "execution_count": 109,
   "metadata": {},
   "outputs": [],
   "source": [
    "df1 = df1.drop('AverageAttendance',axis='columns')"
   ]
  },
  {
   "cell_type": "code",
   "execution_count": 110,
   "metadata": {},
   "outputs": [],
   "source": [
    "df1 = df1.drop('TransferSpendingLastSeason',axis='columns')"
   ]
  },
  {
   "cell_type": "code",
   "execution_count": 111,
   "metadata": {},
   "outputs": [],
   "source": [
    "\n",
    "df1 = df1.drop('YouthAcademyRating',axis='columns')"
   ]
  },
  {
   "cell_type": "code",
   "execution_count": 112,
   "metadata": {},
   "outputs": [],
   "source": [
    "df1 =df1.drop('League',axis='columns')\n",
    "df1 =df1.drop('Manager',axis='columns')\n",
    "df1 =df1.drop('TeamFormation',axis='columns')\n",
    "df1 =df1.drop('HomeCity',axis='columns')\n",
    "df1 =df1.drop('StadiumType',axis='columns')\n",
    "df1 =df1.drop('MainSponsor',axis='columns')\n",
    "df1 =df1.drop('KitManufacturer',axis='columns')\n",
    "df1 =df1.drop('OwnershipType',axis='columns')"
   ]
  },
  {
   "cell_type": "code",
   "execution_count": 113,
   "metadata": {},
   "outputs": [
    {
     "data": {
      "text/plain": [
       "Index(['AveragePlayerAge', 'TotalGoalsLastSeason', 'MatchesWonLastSeason',\n",
       "       'MatchesDrawnLastSeason', 'MatchesLostLastSeason',\n",
       "       'TotalGoalsConcededLastSeason', 'TotalRevenueLastSeason',\n",
       "       'TransferIncomeLastSeason', 'NumberOfTrophies', 'MarketValueOfSquad',\n",
       "       'AveragePlayerMarketValue', 'Country', 'PlayingStyle', 'Price'],\n",
       "      dtype='object')"
      ]
     },
     "execution_count": 113,
     "metadata": {},
     "output_type": "execute_result"
    }
   ],
   "source": [
    "df1.columns"
   ]
  },
  {
   "cell_type": "code",
   "execution_count": 114,
   "metadata": {},
   "outputs": [
    {
     "data": {
      "text/plain": [
       "AveragePlayerAge                0\n",
       "TotalGoalsLastSeason            0\n",
       "MatchesWonLastSeason            0\n",
       "MatchesDrawnLastSeason          0\n",
       "MatchesLostLastSeason           0\n",
       "TotalGoalsConcededLastSeason    0\n",
       "TotalRevenueLastSeason          0\n",
       "TransferIncomeLastSeason        0\n",
       "NumberOfTrophies                0\n",
       "MarketValueOfSquad              0\n",
       "AveragePlayerMarketValue        0\n",
       "Country                         0\n",
       "PlayingStyle                    0\n",
       "Price                           0\n",
       "dtype: int64"
      ]
     },
     "execution_count": 114,
     "metadata": {},
     "output_type": "execute_result"
    }
   ],
   "source": [
    "df1.isnull().sum()"
   ]
  },
  {
   "cell_type": "code",
   "execution_count": 115,
   "metadata": {},
   "outputs": [
    {
     "data": {
      "text/plain": [
       "array([24.36718202, 34.16214321, 30.44389701, ..., 30.73291644,\n",
       "       26.8571855 , 32.64901408])"
      ]
     },
     "execution_count": 115,
     "metadata": {},
     "output_type": "execute_result"
    }
   ],
   "source": [
    "df1.AveragePlayerAge.unique()"
   ]
  },
  {
   "cell_type": "code",
   "execution_count": 116,
   "metadata": {},
   "outputs": [
    {
     "data": {
      "text/plain": [
       "array([28, 89, 43, 84, 36, 56, 69, 64, 39, 78, 30, 74, 96, 77, 63, 33, 95,\n",
       "       71, 53, 82, 46, 31, 57, 75, 59, 40, 51, 45, 55, 35, 97, 91, 58, 83,\n",
       "       48, 50, 62, 38, 29, 79, 67, 20, 44, 87, 47, 21, 42, 81, 34, 23, 90,\n",
       "       88, 80, 26, 76, 25, 60, 73, 41, 24, 70, 65, 22, 92, 86, 85, 66, 32,\n",
       "       99, 49, 54, 68, 27, 94, 98, 61, 37, 72, 52, 93], dtype=int64)"
      ]
     },
     "execution_count": 116,
     "metadata": {},
     "output_type": "execute_result"
    }
   ],
   "source": [
    "df1.TotalGoalsLastSeason.unique()"
   ]
  },
  {
   "cell_type": "code",
   "execution_count": 117,
   "metadata": {},
   "outputs": [
    {
     "data": {
      "text/plain": [
       "array([16, 12,  3, 19, 36, 14, 34, 22, 30, 27, 11, 24, 31,  4, 28, 35, 18,\n",
       "       13,  2, 37, 29,  7, 23, 20,  8, 21, 26,  5, 17,  0, 15, 10, 32, 33,\n",
       "        1,  9, 25,  6], dtype=int64)"
      ]
     },
     "execution_count": 117,
     "metadata": {},
     "output_type": "execute_result"
    }
   ],
   "source": [
    "df1.MatchesWonLastSeason.unique()"
   ]
  },
  {
   "cell_type": "code",
   "execution_count": 118,
   "metadata": {},
   "outputs": [
    {
     "data": {
      "text/plain": [
       "array([36, 35,  9, 19, 10, 37, 20, 30, 12, 17, 27,  5, 25,  3, 31,  1, 21,\n",
       "       11,  2,  7, 28, 24,  8, 32, 13, 18,  6,  4, 16, 22, 14, 23, 29, 15,\n",
       "        0, 33, 34, 26], dtype=int64)"
      ]
     },
     "execution_count": 118,
     "metadata": {},
     "output_type": "execute_result"
    }
   ],
   "source": [
    "df1.MatchesDrawnLastSeason.unique()"
   ]
  },
  {
   "cell_type": "code",
   "execution_count": 119,
   "metadata": {},
   "outputs": [
    {
     "data": {
      "text/plain": [
       "array([20, 31, 28, 34,  9, 33,  8, 18,  1,  2, 17, 26, 21, 13, 16, 24,  0,\n",
       "       30, 22, 25, 27, 15, 23, 37, 32, 11, 10,  4,  5,  6, 19, 36,  7,  3,\n",
       "       35, 14, 29, 12], dtype=int64)"
      ]
     },
     "execution_count": 119,
     "metadata": {},
     "output_type": "execute_result"
    }
   ],
   "source": [
    "df1.MatchesLostLastSeason.unique()"
   ]
  },
  {
   "cell_type": "code",
   "execution_count": 120,
   "metadata": {},
   "outputs": [],
   "source": [
    "df1 = df1.drop('TotalGoalsConcededLastSeason',axis='columns')"
   ]
  },
  {
   "cell_type": "code",
   "execution_count": 121,
   "metadata": {},
   "outputs": [],
   "source": [
    "df1 = df1.drop('TotalRevenueLastSeason',axis='columns')"
   ]
  },
  {
   "cell_type": "code",
   "execution_count": 122,
   "metadata": {},
   "outputs": [],
   "source": [
    "df1 = df1.drop('TransferIncomeLastSeason',axis='columns')"
   ]
  },
  {
   "cell_type": "code",
   "execution_count": 123,
   "metadata": {},
   "outputs": [],
   "source": [
    "df1 = df1.drop('MatchesDrawnLastSeason',axis='columns')"
   ]
  },
  {
   "cell_type": "code",
   "execution_count": 124,
   "metadata": {},
   "outputs": [],
   "source": [
    "df1 = df1.drop('MatchesLostLastSeason',axis='columns')"
   ]
  },
  {
   "cell_type": "code",
   "execution_count": 125,
   "metadata": {},
   "outputs": [
    {
     "data": {
      "text/plain": [
       "Index(['AveragePlayerAge', 'TotalGoalsLastSeason', 'MatchesWonLastSeason',\n",
       "       'NumberOfTrophies', 'MarketValueOfSquad', 'AveragePlayerMarketValue',\n",
       "       'Country', 'PlayingStyle', 'Price'],\n",
       "      dtype='object')"
      ]
     },
     "execution_count": 125,
     "metadata": {},
     "output_type": "execute_result"
    }
   ],
   "source": [
    "df1.columns"
   ]
  },
  {
   "cell_type": "code",
   "execution_count": 126,
   "metadata": {},
   "outputs": [
    {
     "data": {
      "text/plain": [
       "AveragePlayerAge            0\n",
       "TotalGoalsLastSeason        0\n",
       "MatchesWonLastSeason        0\n",
       "NumberOfTrophies            0\n",
       "MarketValueOfSquad          0\n",
       "AveragePlayerMarketValue    0\n",
       "Country                     0\n",
       "PlayingStyle                0\n",
       "Price                       0\n",
       "dtype: int64"
      ]
     },
     "execution_count": 126,
     "metadata": {},
     "output_type": "execute_result"
    }
   ],
   "source": [
    "df1.isnull().sum()"
   ]
  },
  {
   "cell_type": "markdown",
   "metadata": {},
   "source": [
    "#### All the columns droped in the dataset have not much effects on the value of price"
   ]
  },
  {
   "cell_type": "code",
   "execution_count": 127,
   "metadata": {},
   "outputs": [
    {
     "data": {
      "text/html": [
       "<div>\n",
       "<style scoped>\n",
       "    .dataframe tbody tr th:only-of-type {\n",
       "        vertical-align: middle;\n",
       "    }\n",
       "\n",
       "    .dataframe tbody tr th {\n",
       "        vertical-align: top;\n",
       "    }\n",
       "\n",
       "    .dataframe thead th {\n",
       "        text-align: right;\n",
       "    }\n",
       "</style>\n",
       "<table border=\"1\" class=\"dataframe\">\n",
       "  <thead>\n",
       "    <tr style=\"text-align: right;\">\n",
       "      <th></th>\n",
       "      <th>AveragePlayerAge</th>\n",
       "      <th>TotalGoalsLastSeason</th>\n",
       "      <th>MatchesWonLastSeason</th>\n",
       "      <th>NumberOfTrophies</th>\n",
       "      <th>MarketValueOfSquad</th>\n",
       "      <th>AveragePlayerMarketValue</th>\n",
       "      <th>Country</th>\n",
       "      <th>PlayingStyle</th>\n",
       "      <th>Price</th>\n",
       "    </tr>\n",
       "  </thead>\n",
       "  <tbody>\n",
       "    <tr>\n",
       "      <th>0</th>\n",
       "      <td>24.367182</td>\n",
       "      <td>28</td>\n",
       "      <td>16</td>\n",
       "      <td>49</td>\n",
       "      <td>713.968872</td>\n",
       "      <td>15.847841</td>\n",
       "      <td>England</td>\n",
       "      <td>Counter-Attack</td>\n",
       "      <td>43,751,816</td>\n",
       "    </tr>\n",
       "    <tr>\n",
       "      <th>1</th>\n",
       "      <td>34.162143</td>\n",
       "      <td>89</td>\n",
       "      <td>12</td>\n",
       "      <td>38</td>\n",
       "      <td>236.644694</td>\n",
       "      <td>26.731697</td>\n",
       "      <td>Spain</td>\n",
       "      <td>Defensive</td>\n",
       "      <td>859,750,388</td>\n",
       "    </tr>\n",
       "    <tr>\n",
       "      <th>2</th>\n",
       "      <td>30.443897</td>\n",
       "      <td>43</td>\n",
       "      <td>3</td>\n",
       "      <td>38</td>\n",
       "      <td>410.502058</td>\n",
       "      <td>21.365171</td>\n",
       "      <td>Spain</td>\n",
       "      <td>Attacking</td>\n",
       "      <td>2,168,913,729</td>\n",
       "    </tr>\n",
       "    <tr>\n",
       "      <th>3</th>\n",
       "      <td>28.177194</td>\n",
       "      <td>84</td>\n",
       "      <td>19</td>\n",
       "      <td>6</td>\n",
       "      <td>177.561791</td>\n",
       "      <td>21.483504</td>\n",
       "      <td>Italy</td>\n",
       "      <td>Counter-Attack</td>\n",
       "      <td>1,426,481,894</td>\n",
       "    </tr>\n",
       "    <tr>\n",
       "      <th>4</th>\n",
       "      <td>20.652317</td>\n",
       "      <td>36</td>\n",
       "      <td>36</td>\n",
       "      <td>11</td>\n",
       "      <td>562.114098</td>\n",
       "      <td>26.938414</td>\n",
       "      <td>France</td>\n",
       "      <td>Counter-Attack</td>\n",
       "      <td>4,038,110,631</td>\n",
       "    </tr>\n",
       "  </tbody>\n",
       "</table>\n",
       "</div>"
      ],
      "text/plain": [
       "   AveragePlayerAge  TotalGoalsLastSeason  MatchesWonLastSeason  \\\n",
       "0         24.367182                    28                    16   \n",
       "1         34.162143                    89                    12   \n",
       "2         30.443897                    43                     3   \n",
       "3         28.177194                    84                    19   \n",
       "4         20.652317                    36                    36   \n",
       "\n",
       "   NumberOfTrophies  MarketValueOfSquad  AveragePlayerMarketValue  Country  \\\n",
       "0                49          713.968872                 15.847841  England   \n",
       "1                38          236.644694                 26.731697    Spain   \n",
       "2                38          410.502058                 21.365171    Spain   \n",
       "3                 6          177.561791                 21.483504    Italy   \n",
       "4                11          562.114098                 26.938414   France   \n",
       "\n",
       "     PlayingStyle          Price  \n",
       "0  Counter-Attack     43,751,816  \n",
       "1       Defensive    859,750,388  \n",
       "2       Attacking  2,168,913,729  \n",
       "3  Counter-Attack  1,426,481,894  \n",
       "4  Counter-Attack  4,038,110,631  "
      ]
     },
     "execution_count": 127,
     "metadata": {},
     "output_type": "execute_result"
    }
   ],
   "source": [
    "df1.head(5)"
   ]
  },
  {
   "cell_type": "code",
   "execution_count": 128,
   "metadata": {},
   "outputs": [
    {
     "data": {
      "text/html": [
       "<div>\n",
       "<style scoped>\n",
       "    .dataframe tbody tr th:only-of-type {\n",
       "        vertical-align: middle;\n",
       "    }\n",
       "\n",
       "    .dataframe tbody tr th {\n",
       "        vertical-align: top;\n",
       "    }\n",
       "\n",
       "    .dataframe thead th {\n",
       "        text-align: right;\n",
       "    }\n",
       "</style>\n",
       "<table border=\"1\" class=\"dataframe\">\n",
       "  <thead>\n",
       "    <tr style=\"text-align: right;\">\n",
       "      <th></th>\n",
       "      <th>England</th>\n",
       "      <th>France</th>\n",
       "      <th>Germany</th>\n",
       "      <th>Italy</th>\n",
       "      <th>Spain</th>\n",
       "    </tr>\n",
       "  </thead>\n",
       "  <tbody>\n",
       "    <tr>\n",
       "      <th>0</th>\n",
       "      <td>True</td>\n",
       "      <td>False</td>\n",
       "      <td>False</td>\n",
       "      <td>False</td>\n",
       "      <td>False</td>\n",
       "    </tr>\n",
       "    <tr>\n",
       "      <th>1</th>\n",
       "      <td>False</td>\n",
       "      <td>False</td>\n",
       "      <td>False</td>\n",
       "      <td>False</td>\n",
       "      <td>True</td>\n",
       "    </tr>\n",
       "  </tbody>\n",
       "</table>\n",
       "</div>"
      ],
      "text/plain": [
       "   England  France  Germany  Italy  Spain\n",
       "0     True   False    False  False  False\n",
       "1    False   False    False  False   True"
      ]
     },
     "execution_count": 128,
     "metadata": {},
     "output_type": "execute_result"
    }
   ],
   "source": [
    "dummies2 = pd.get_dummies(df1['Country'])\n",
    "dummies2.head(2)"
   ]
  },
  {
   "cell_type": "code",
   "execution_count": 129,
   "metadata": {},
   "outputs": [
    {
     "data": {
      "text/html": [
       "<div>\n",
       "<style scoped>\n",
       "    .dataframe tbody tr th:only-of-type {\n",
       "        vertical-align: middle;\n",
       "    }\n",
       "\n",
       "    .dataframe tbody tr th {\n",
       "        vertical-align: top;\n",
       "    }\n",
       "\n",
       "    .dataframe thead th {\n",
       "        text-align: right;\n",
       "    }\n",
       "</style>\n",
       "<table border=\"1\" class=\"dataframe\">\n",
       "  <thead>\n",
       "    <tr style=\"text-align: right;\">\n",
       "      <th></th>\n",
       "      <th>Attacking</th>\n",
       "      <th>Counter-Attack</th>\n",
       "      <th>Defensive</th>\n",
       "      <th>Possession</th>\n",
       "    </tr>\n",
       "  </thead>\n",
       "  <tbody>\n",
       "    <tr>\n",
       "      <th>0</th>\n",
       "      <td>False</td>\n",
       "      <td>True</td>\n",
       "      <td>False</td>\n",
       "      <td>False</td>\n",
       "    </tr>\n",
       "    <tr>\n",
       "      <th>1</th>\n",
       "      <td>False</td>\n",
       "      <td>False</td>\n",
       "      <td>True</td>\n",
       "      <td>False</td>\n",
       "    </tr>\n",
       "  </tbody>\n",
       "</table>\n",
       "</div>"
      ],
      "text/plain": [
       "   Attacking  Counter-Attack  Defensive  Possession\n",
       "0      False            True      False       False\n",
       "1      False           False       True       False"
      ]
     },
     "execution_count": 129,
     "metadata": {},
     "output_type": "execute_result"
    }
   ],
   "source": [
    "dummies1 = pd.get_dummies(df1['PlayingStyle'])\n",
    "dummies1.head(2)"
   ]
  },
  {
   "cell_type": "code",
   "execution_count": 130,
   "metadata": {},
   "outputs": [
    {
     "data": {
      "text/html": [
       "<div>\n",
       "<style scoped>\n",
       "    .dataframe tbody tr th:only-of-type {\n",
       "        vertical-align: middle;\n",
       "    }\n",
       "\n",
       "    .dataframe tbody tr th {\n",
       "        vertical-align: top;\n",
       "    }\n",
       "\n",
       "    .dataframe thead th {\n",
       "        text-align: right;\n",
       "    }\n",
       "</style>\n",
       "<table border=\"1\" class=\"dataframe\">\n",
       "  <thead>\n",
       "    <tr style=\"text-align: right;\">\n",
       "      <th></th>\n",
       "      <th>AveragePlayerAge</th>\n",
       "      <th>TotalGoalsLastSeason</th>\n",
       "      <th>MatchesWonLastSeason</th>\n",
       "      <th>NumberOfTrophies</th>\n",
       "      <th>MarketValueOfSquad</th>\n",
       "      <th>AveragePlayerMarketValue</th>\n",
       "      <th>Country</th>\n",
       "      <th>PlayingStyle</th>\n",
       "      <th>Price</th>\n",
       "      <th>England</th>\n",
       "      <th>France</th>\n",
       "      <th>Germany</th>\n",
       "      <th>Italy</th>\n",
       "      <th>Spain</th>\n",
       "      <th>Attacking</th>\n",
       "      <th>Counter-Attack</th>\n",
       "      <th>Defensive</th>\n",
       "      <th>Possession</th>\n",
       "    </tr>\n",
       "  </thead>\n",
       "  <tbody>\n",
       "    <tr>\n",
       "      <th>0</th>\n",
       "      <td>24.367182</td>\n",
       "      <td>28</td>\n",
       "      <td>16</td>\n",
       "      <td>49</td>\n",
       "      <td>713.968872</td>\n",
       "      <td>15.847841</td>\n",
       "      <td>England</td>\n",
       "      <td>Counter-Attack</td>\n",
       "      <td>43,751,816</td>\n",
       "      <td>True</td>\n",
       "      <td>False</td>\n",
       "      <td>False</td>\n",
       "      <td>False</td>\n",
       "      <td>False</td>\n",
       "      <td>False</td>\n",
       "      <td>True</td>\n",
       "      <td>False</td>\n",
       "      <td>False</td>\n",
       "    </tr>\n",
       "    <tr>\n",
       "      <th>1</th>\n",
       "      <td>34.162143</td>\n",
       "      <td>89</td>\n",
       "      <td>12</td>\n",
       "      <td>38</td>\n",
       "      <td>236.644694</td>\n",
       "      <td>26.731697</td>\n",
       "      <td>Spain</td>\n",
       "      <td>Defensive</td>\n",
       "      <td>859,750,388</td>\n",
       "      <td>False</td>\n",
       "      <td>False</td>\n",
       "      <td>False</td>\n",
       "      <td>False</td>\n",
       "      <td>True</td>\n",
       "      <td>False</td>\n",
       "      <td>False</td>\n",
       "      <td>True</td>\n",
       "      <td>False</td>\n",
       "    </tr>\n",
       "  </tbody>\n",
       "</table>\n",
       "</div>"
      ],
      "text/plain": [
       "   AveragePlayerAge  TotalGoalsLastSeason  MatchesWonLastSeason  \\\n",
       "0         24.367182                    28                    16   \n",
       "1         34.162143                    89                    12   \n",
       "\n",
       "   NumberOfTrophies  MarketValueOfSquad  AveragePlayerMarketValue  Country  \\\n",
       "0                49          713.968872                 15.847841  England   \n",
       "1                38          236.644694                 26.731697    Spain   \n",
       "\n",
       "     PlayingStyle        Price  England  France  Germany  Italy  Spain  \\\n",
       "0  Counter-Attack   43,751,816     True   False    False  False  False   \n",
       "1       Defensive  859,750,388    False   False    False  False   True   \n",
       "\n",
       "   Attacking  Counter-Attack  Defensive  Possession  \n",
       "0      False            True      False       False  \n",
       "1      False           False       True       False  "
      ]
     },
     "execution_count": 130,
     "metadata": {},
     "output_type": "execute_result"
    }
   ],
   "source": [
    "df2 = pd.concat([df1,dummies2,dummies1],axis='columns')\n",
    "df2.head(2)"
   ]
  },
  {
   "cell_type": "code",
   "execution_count": 131,
   "metadata": {},
   "outputs": [
    {
     "data": {
      "text/html": [
       "<div>\n",
       "<style scoped>\n",
       "    .dataframe tbody tr th:only-of-type {\n",
       "        vertical-align: middle;\n",
       "    }\n",
       "\n",
       "    .dataframe tbody tr th {\n",
       "        vertical-align: top;\n",
       "    }\n",
       "\n",
       "    .dataframe thead th {\n",
       "        text-align: right;\n",
       "    }\n",
       "</style>\n",
       "<table border=\"1\" class=\"dataframe\">\n",
       "  <thead>\n",
       "    <tr style=\"text-align: right;\">\n",
       "      <th></th>\n",
       "      <th>AveragePlayerAge</th>\n",
       "      <th>TotalGoalsLastSeason</th>\n",
       "      <th>MatchesWonLastSeason</th>\n",
       "      <th>NumberOfTrophies</th>\n",
       "      <th>MarketValueOfSquad</th>\n",
       "      <th>AveragePlayerMarketValue</th>\n",
       "      <th>PlayingStyle</th>\n",
       "      <th>Price</th>\n",
       "      <th>England</th>\n",
       "      <th>France</th>\n",
       "      <th>Germany</th>\n",
       "      <th>Italy</th>\n",
       "      <th>Spain</th>\n",
       "      <th>Attacking</th>\n",
       "      <th>Counter-Attack</th>\n",
       "      <th>Defensive</th>\n",
       "      <th>Possession</th>\n",
       "    </tr>\n",
       "  </thead>\n",
       "  <tbody>\n",
       "    <tr>\n",
       "      <th>0</th>\n",
       "      <td>24.367182</td>\n",
       "      <td>28</td>\n",
       "      <td>16</td>\n",
       "      <td>49</td>\n",
       "      <td>713.968872</td>\n",
       "      <td>15.847841</td>\n",
       "      <td>Counter-Attack</td>\n",
       "      <td>43,751,816</td>\n",
       "      <td>True</td>\n",
       "      <td>False</td>\n",
       "      <td>False</td>\n",
       "      <td>False</td>\n",
       "      <td>False</td>\n",
       "      <td>False</td>\n",
       "      <td>True</td>\n",
       "      <td>False</td>\n",
       "      <td>False</td>\n",
       "    </tr>\n",
       "    <tr>\n",
       "      <th>1</th>\n",
       "      <td>34.162143</td>\n",
       "      <td>89</td>\n",
       "      <td>12</td>\n",
       "      <td>38</td>\n",
       "      <td>236.644694</td>\n",
       "      <td>26.731697</td>\n",
       "      <td>Defensive</td>\n",
       "      <td>859,750,388</td>\n",
       "      <td>False</td>\n",
       "      <td>False</td>\n",
       "      <td>False</td>\n",
       "      <td>False</td>\n",
       "      <td>True</td>\n",
       "      <td>False</td>\n",
       "      <td>False</td>\n",
       "      <td>True</td>\n",
       "      <td>False</td>\n",
       "    </tr>\n",
       "  </tbody>\n",
       "</table>\n",
       "</div>"
      ],
      "text/plain": [
       "   AveragePlayerAge  TotalGoalsLastSeason  MatchesWonLastSeason  \\\n",
       "0         24.367182                    28                    16   \n",
       "1         34.162143                    89                    12   \n",
       "\n",
       "   NumberOfTrophies  MarketValueOfSquad  AveragePlayerMarketValue  \\\n",
       "0                49          713.968872                 15.847841   \n",
       "1                38          236.644694                 26.731697   \n",
       "\n",
       "     PlayingStyle        Price  England  France  Germany  Italy  Spain  \\\n",
       "0  Counter-Attack   43,751,816     True   False    False  False  False   \n",
       "1       Defensive  859,750,388    False   False    False  False   True   \n",
       "\n",
       "   Attacking  Counter-Attack  Defensive  Possession  \n",
       "0      False            True      False       False  \n",
       "1      False           False       True       False  "
      ]
     },
     "execution_count": 131,
     "metadata": {},
     "output_type": "execute_result"
    }
   ],
   "source": [
    "df3 = df2.drop('Country',axis='columns')\n",
    "df3.head(2)"
   ]
  },
  {
   "cell_type": "code",
   "execution_count": 132,
   "metadata": {},
   "outputs": [
    {
     "data": {
      "text/html": [
       "<div>\n",
       "<style scoped>\n",
       "    .dataframe tbody tr th:only-of-type {\n",
       "        vertical-align: middle;\n",
       "    }\n",
       "\n",
       "    .dataframe tbody tr th {\n",
       "        vertical-align: top;\n",
       "    }\n",
       "\n",
       "    .dataframe thead th {\n",
       "        text-align: right;\n",
       "    }\n",
       "</style>\n",
       "<table border=\"1\" class=\"dataframe\">\n",
       "  <thead>\n",
       "    <tr style=\"text-align: right;\">\n",
       "      <th></th>\n",
       "      <th>AveragePlayerAge</th>\n",
       "      <th>TotalGoalsLastSeason</th>\n",
       "      <th>MatchesWonLastSeason</th>\n",
       "      <th>NumberOfTrophies</th>\n",
       "      <th>MarketValueOfSquad</th>\n",
       "      <th>AveragePlayerMarketValue</th>\n",
       "      <th>Price</th>\n",
       "      <th>England</th>\n",
       "      <th>France</th>\n",
       "      <th>Germany</th>\n",
       "      <th>Italy</th>\n",
       "      <th>Spain</th>\n",
       "      <th>Attacking</th>\n",
       "      <th>Counter-Attack</th>\n",
       "      <th>Defensive</th>\n",
       "      <th>Possession</th>\n",
       "    </tr>\n",
       "  </thead>\n",
       "  <tbody>\n",
       "    <tr>\n",
       "      <th>0</th>\n",
       "      <td>24.367182</td>\n",
       "      <td>28</td>\n",
       "      <td>16</td>\n",
       "      <td>49</td>\n",
       "      <td>713.968872</td>\n",
       "      <td>15.847841</td>\n",
       "      <td>43,751,816</td>\n",
       "      <td>True</td>\n",
       "      <td>False</td>\n",
       "      <td>False</td>\n",
       "      <td>False</td>\n",
       "      <td>False</td>\n",
       "      <td>False</td>\n",
       "      <td>True</td>\n",
       "      <td>False</td>\n",
       "      <td>False</td>\n",
       "    </tr>\n",
       "    <tr>\n",
       "      <th>1</th>\n",
       "      <td>34.162143</td>\n",
       "      <td>89</td>\n",
       "      <td>12</td>\n",
       "      <td>38</td>\n",
       "      <td>236.644694</td>\n",
       "      <td>26.731697</td>\n",
       "      <td>859,750,388</td>\n",
       "      <td>False</td>\n",
       "      <td>False</td>\n",
       "      <td>False</td>\n",
       "      <td>False</td>\n",
       "      <td>True</td>\n",
       "      <td>False</td>\n",
       "      <td>False</td>\n",
       "      <td>True</td>\n",
       "      <td>False</td>\n",
       "    </tr>\n",
       "  </tbody>\n",
       "</table>\n",
       "</div>"
      ],
      "text/plain": [
       "   AveragePlayerAge  TotalGoalsLastSeason  MatchesWonLastSeason  \\\n",
       "0         24.367182                    28                    16   \n",
       "1         34.162143                    89                    12   \n",
       "\n",
       "   NumberOfTrophies  MarketValueOfSquad  AveragePlayerMarketValue  \\\n",
       "0                49          713.968872                 15.847841   \n",
       "1                38          236.644694                 26.731697   \n",
       "\n",
       "         Price  England  France  Germany  Italy  Spain  Attacking  \\\n",
       "0   43,751,816     True   False    False  False  False      False   \n",
       "1  859,750,388    False   False    False  False   True      False   \n",
       "\n",
       "   Counter-Attack  Defensive  Possession  \n",
       "0            True      False       False  \n",
       "1           False       True       False  "
      ]
     },
     "execution_count": 132,
     "metadata": {},
     "output_type": "execute_result"
    }
   ],
   "source": [
    "df3 = df3.drop('PlayingStyle',axis='columns')\n",
    "df3.head(2)"
   ]
  },
  {
   "cell_type": "code",
   "execution_count": 133,
   "metadata": {},
   "outputs": [],
   "source": [
    "df3 = df3.drop(index=20435)"
   ]
  },
  {
   "cell_type": "code",
   "execution_count": 141,
   "metadata": {},
   "outputs": [],
   "source": [
    "df3 = df3.drop(index=21767)"
   ]
  },
  {
   "cell_type": "code",
   "execution_count": 149,
   "metadata": {},
   "outputs": [],
   "source": [
    "df3 = df3.drop(index=17472)"
   ]
  },
  {
   "cell_type": "code",
   "execution_count": 150,
   "metadata": {},
   "outputs": [
    {
     "data": {
      "text/html": [
       "<div>\n",
       "<style scoped>\n",
       "    .dataframe tbody tr th:only-of-type {\n",
       "        vertical-align: middle;\n",
       "    }\n",
       "\n",
       "    .dataframe tbody tr th {\n",
       "        vertical-align: top;\n",
       "    }\n",
       "\n",
       "    .dataframe thead th {\n",
       "        text-align: right;\n",
       "    }\n",
       "</style>\n",
       "<table border=\"1\" class=\"dataframe\">\n",
       "  <thead>\n",
       "    <tr style=\"text-align: right;\">\n",
       "      <th></th>\n",
       "      <th>AveragePlayerAge</th>\n",
       "      <th>TotalGoalsLastSeason</th>\n",
       "      <th>MatchesWonLastSeason</th>\n",
       "      <th>NumberOfTrophies</th>\n",
       "      <th>MarketValueOfSquad</th>\n",
       "      <th>AveragePlayerMarketValue</th>\n",
       "      <th>Price</th>\n",
       "      <th>England</th>\n",
       "      <th>France</th>\n",
       "      <th>Germany</th>\n",
       "      <th>Italy</th>\n",
       "      <th>Spain</th>\n",
       "      <th>Attacking</th>\n",
       "      <th>Counter-Attack</th>\n",
       "      <th>Defensive</th>\n",
       "      <th>Possession</th>\n",
       "    </tr>\n",
       "  </thead>\n",
       "  <tbody>\n",
       "    <tr>\n",
       "      <th>0</th>\n",
       "      <td>24.367182</td>\n",
       "      <td>28</td>\n",
       "      <td>16</td>\n",
       "      <td>49</td>\n",
       "      <td>713.968872</td>\n",
       "      <td>15.847841</td>\n",
       "      <td>43,751,816</td>\n",
       "      <td>True</td>\n",
       "      <td>False</td>\n",
       "      <td>False</td>\n",
       "      <td>False</td>\n",
       "      <td>False</td>\n",
       "      <td>False</td>\n",
       "      <td>True</td>\n",
       "      <td>False</td>\n",
       "      <td>False</td>\n",
       "    </tr>\n",
       "    <tr>\n",
       "      <th>1</th>\n",
       "      <td>34.162143</td>\n",
       "      <td>89</td>\n",
       "      <td>12</td>\n",
       "      <td>38</td>\n",
       "      <td>236.644694</td>\n",
       "      <td>26.731697</td>\n",
       "      <td>859,750,388</td>\n",
       "      <td>False</td>\n",
       "      <td>False</td>\n",
       "      <td>False</td>\n",
       "      <td>False</td>\n",
       "      <td>True</td>\n",
       "      <td>False</td>\n",
       "      <td>False</td>\n",
       "      <td>True</td>\n",
       "      <td>False</td>\n",
       "    </tr>\n",
       "    <tr>\n",
       "      <th>2</th>\n",
       "      <td>30.443897</td>\n",
       "      <td>43</td>\n",
       "      <td>3</td>\n",
       "      <td>38</td>\n",
       "      <td>410.502058</td>\n",
       "      <td>21.365171</td>\n",
       "      <td>2,168,913,729</td>\n",
       "      <td>False</td>\n",
       "      <td>False</td>\n",
       "      <td>False</td>\n",
       "      <td>False</td>\n",
       "      <td>True</td>\n",
       "      <td>True</td>\n",
       "      <td>False</td>\n",
       "      <td>False</td>\n",
       "      <td>False</td>\n",
       "    </tr>\n",
       "    <tr>\n",
       "      <th>3</th>\n",
       "      <td>28.177194</td>\n",
       "      <td>84</td>\n",
       "      <td>19</td>\n",
       "      <td>6</td>\n",
       "      <td>177.561791</td>\n",
       "      <td>21.483504</td>\n",
       "      <td>1,426,481,894</td>\n",
       "      <td>False</td>\n",
       "      <td>False</td>\n",
       "      <td>False</td>\n",
       "      <td>True</td>\n",
       "      <td>False</td>\n",
       "      <td>False</td>\n",
       "      <td>True</td>\n",
       "      <td>False</td>\n",
       "      <td>False</td>\n",
       "    </tr>\n",
       "    <tr>\n",
       "      <th>4</th>\n",
       "      <td>20.652317</td>\n",
       "      <td>36</td>\n",
       "      <td>36</td>\n",
       "      <td>11</td>\n",
       "      <td>562.114098</td>\n",
       "      <td>26.938414</td>\n",
       "      <td>4,038,110,631</td>\n",
       "      <td>False</td>\n",
       "      <td>True</td>\n",
       "      <td>False</td>\n",
       "      <td>False</td>\n",
       "      <td>False</td>\n",
       "      <td>False</td>\n",
       "      <td>True</td>\n",
       "      <td>False</td>\n",
       "      <td>False</td>\n",
       "    </tr>\n",
       "  </tbody>\n",
       "</table>\n",
       "</div>"
      ],
      "text/plain": [
       "   AveragePlayerAge  TotalGoalsLastSeason  MatchesWonLastSeason  \\\n",
       "0         24.367182                    28                    16   \n",
       "1         34.162143                    89                    12   \n",
       "2         30.443897                    43                     3   \n",
       "3         28.177194                    84                    19   \n",
       "4         20.652317                    36                    36   \n",
       "\n",
       "   NumberOfTrophies  MarketValueOfSquad  AveragePlayerMarketValue  \\\n",
       "0                49          713.968872                 15.847841   \n",
       "1                38          236.644694                 26.731697   \n",
       "2                38          410.502058                 21.365171   \n",
       "3                 6          177.561791                 21.483504   \n",
       "4                11          562.114098                 26.938414   \n",
       "\n",
       "           Price  England  France  Germany  Italy  Spain  Attacking  \\\n",
       "0     43,751,816     True   False    False  False  False      False   \n",
       "1    859,750,388    False   False    False  False   True      False   \n",
       "2  2,168,913,729    False   False    False  False   True       True   \n",
       "3  1,426,481,894    False   False    False   True  False      False   \n",
       "4  4,038,110,631    False    True    False  False  False      False   \n",
       "\n",
       "   Counter-Attack  Defensive  Possession  \n",
       "0            True      False       False  \n",
       "1           False       True       False  \n",
       "2           False      False       False  \n",
       "3            True      False       False  \n",
       "4            True      False       False  "
      ]
     },
     "execution_count": 150,
     "metadata": {},
     "output_type": "execute_result"
    }
   ],
   "source": [
    "df3.head()"
   ]
  },
  {
   "cell_type": "markdown",
   "metadata": {},
   "source": [
    "----------------------------------------------------------------------------------"
   ]
  },
  {
   "cell_type": "markdown",
   "metadata": {},
   "source": [
    "------------------------------------------------------------------------------------"
   ]
  },
  {
   "cell_type": "code",
   "execution_count": 151,
   "metadata": {},
   "outputs": [],
   "source": [
    "X = df3.drop('Price',axis='columns')"
   ]
  },
  {
   "cell_type": "code",
   "execution_count": 152,
   "metadata": {},
   "outputs": [],
   "source": [
    "Y = df3.Price"
   ]
  },
  {
   "cell_type": "code",
   "execution_count": 153,
   "metadata": {},
   "outputs": [
    {
     "data": {
      "text/plain": [
       "AveragePlayerAge            0\n",
       "TotalGoalsLastSeason        0\n",
       "MatchesWonLastSeason        0\n",
       "NumberOfTrophies            0\n",
       "MarketValueOfSquad          0\n",
       "AveragePlayerMarketValue    0\n",
       "Price                       0\n",
       "England                     0\n",
       "France                      0\n",
       "Germany                     0\n",
       "Italy                       0\n",
       "Spain                       0\n",
       "Attacking                   0\n",
       "Counter-Attack              0\n",
       "Defensive                   0\n",
       "Possession                  0\n",
       "dtype: int64"
      ]
     },
     "execution_count": 153,
     "metadata": {},
     "output_type": "execute_result"
    }
   ],
   "source": [
    "df3.isnull().sum()"
   ]
  },
  {
   "cell_type": "code",
   "execution_count": 154,
   "metadata": {},
   "outputs": [],
   "source": [
    "from sklearn.model_selection import train_test_split\n",
    "x_train,x_test,y_train,y_test = train_test_split(X,Y,test_size=0.2, random_state=10)"
   ]
  },
  {
   "cell_type": "code",
   "execution_count": 155,
   "metadata": {},
   "outputs": [
    {
     "data": {
      "text/plain": [
       "(49997, 16)"
      ]
     },
     "execution_count": 155,
     "metadata": {},
     "output_type": "execute_result"
    }
   ],
   "source": [
    "df3.shape"
   ]
  },
  {
   "cell_type": "code",
   "execution_count": 156,
   "metadata": {},
   "outputs": [
    {
     "ename": "ValueError",
     "evalue": "could not convert string to float: '3,415,844,033'",
     "output_type": "error",
     "traceback": [
      "\u001b[1;31m---------------------------------------------------------------------------\u001b[0m",
      "\u001b[1;31mValueError\u001b[0m                                Traceback (most recent call last)",
      "Cell \u001b[1;32mIn[156], line 3\u001b[0m\n\u001b[0;32m      1\u001b[0m \u001b[38;5;28;01mfrom\u001b[39;00m \u001b[38;5;21;01msklearn\u001b[39;00m\u001b[38;5;21;01m.\u001b[39;00m\u001b[38;5;21;01mlinear_model\u001b[39;00m \u001b[38;5;28;01mimport\u001b[39;00m LinearRegression\n\u001b[0;32m      2\u001b[0m model \u001b[38;5;241m=\u001b[39m LinearRegression()\n\u001b[1;32m----> 3\u001b[0m \u001b[43mmodel\u001b[49m\u001b[38;5;241;43m.\u001b[39;49m\u001b[43mfit\u001b[49m\u001b[43m(\u001b[49m\u001b[43mx_train\u001b[49m\u001b[43m,\u001b[49m\u001b[43my_train\u001b[49m\u001b[43m)\u001b[49m\n\u001b[0;32m      4\u001b[0m model\u001b[38;5;241m.\u001b[39mscore(x_test,y_test)\n",
      "File \u001b[1;32mc:\\Users\\akr\\AppData\\Local\\Programs\\Python\\Python311\\Lib\\site-packages\\sklearn\\base.py:1151\u001b[0m, in \u001b[0;36m_fit_context.<locals>.decorator.<locals>.wrapper\u001b[1;34m(estimator, *args, **kwargs)\u001b[0m\n\u001b[0;32m   1144\u001b[0m     estimator\u001b[38;5;241m.\u001b[39m_validate_params()\n\u001b[0;32m   1146\u001b[0m \u001b[38;5;28;01mwith\u001b[39;00m config_context(\n\u001b[0;32m   1147\u001b[0m     skip_parameter_validation\u001b[38;5;241m=\u001b[39m(\n\u001b[0;32m   1148\u001b[0m         prefer_skip_nested_validation \u001b[38;5;129;01mor\u001b[39;00m global_skip_validation\n\u001b[0;32m   1149\u001b[0m     )\n\u001b[0;32m   1150\u001b[0m ):\n\u001b[1;32m-> 1151\u001b[0m     \u001b[38;5;28;01mreturn\u001b[39;00m \u001b[43mfit_method\u001b[49m\u001b[43m(\u001b[49m\u001b[43mestimator\u001b[49m\u001b[43m,\u001b[49m\u001b[43m \u001b[49m\u001b[38;5;241;43m*\u001b[39;49m\u001b[43margs\u001b[49m\u001b[43m,\u001b[49m\u001b[43m \u001b[49m\u001b[38;5;241;43m*\u001b[39;49m\u001b[38;5;241;43m*\u001b[39;49m\u001b[43mkwargs\u001b[49m\u001b[43m)\u001b[49m\n",
      "File \u001b[1;32mc:\\Users\\akr\\AppData\\Local\\Programs\\Python\\Python311\\Lib\\site-packages\\sklearn\\linear_model\\_base.py:678\u001b[0m, in \u001b[0;36mLinearRegression.fit\u001b[1;34m(self, X, y, sample_weight)\u001b[0m\n\u001b[0;32m    674\u001b[0m n_jobs_ \u001b[38;5;241m=\u001b[39m \u001b[38;5;28mself\u001b[39m\u001b[38;5;241m.\u001b[39mn_jobs\n\u001b[0;32m    676\u001b[0m accept_sparse \u001b[38;5;241m=\u001b[39m \u001b[38;5;28;01mFalse\u001b[39;00m \u001b[38;5;28;01mif\u001b[39;00m \u001b[38;5;28mself\u001b[39m\u001b[38;5;241m.\u001b[39mpositive \u001b[38;5;28;01melse\u001b[39;00m [\u001b[38;5;124m\"\u001b[39m\u001b[38;5;124mcsr\u001b[39m\u001b[38;5;124m\"\u001b[39m, \u001b[38;5;124m\"\u001b[39m\u001b[38;5;124mcsc\u001b[39m\u001b[38;5;124m\"\u001b[39m, \u001b[38;5;124m\"\u001b[39m\u001b[38;5;124mcoo\u001b[39m\u001b[38;5;124m\"\u001b[39m]\n\u001b[1;32m--> 678\u001b[0m X, y \u001b[38;5;241m=\u001b[39m \u001b[38;5;28;43mself\u001b[39;49m\u001b[38;5;241;43m.\u001b[39;49m\u001b[43m_validate_data\u001b[49m\u001b[43m(\u001b[49m\n\u001b[0;32m    679\u001b[0m \u001b[43m    \u001b[49m\u001b[43mX\u001b[49m\u001b[43m,\u001b[49m\u001b[43m \u001b[49m\u001b[43my\u001b[49m\u001b[43m,\u001b[49m\u001b[43m \u001b[49m\u001b[43maccept_sparse\u001b[49m\u001b[38;5;241;43m=\u001b[39;49m\u001b[43maccept_sparse\u001b[49m\u001b[43m,\u001b[49m\u001b[43m \u001b[49m\u001b[43my_numeric\u001b[49m\u001b[38;5;241;43m=\u001b[39;49m\u001b[38;5;28;43;01mTrue\u001b[39;49;00m\u001b[43m,\u001b[49m\u001b[43m \u001b[49m\u001b[43mmulti_output\u001b[49m\u001b[38;5;241;43m=\u001b[39;49m\u001b[38;5;28;43;01mTrue\u001b[39;49;00m\n\u001b[0;32m    680\u001b[0m \u001b[43m\u001b[49m\u001b[43m)\u001b[49m\n\u001b[0;32m    682\u001b[0m has_sw \u001b[38;5;241m=\u001b[39m sample_weight \u001b[38;5;129;01mis\u001b[39;00m \u001b[38;5;129;01mnot\u001b[39;00m \u001b[38;5;28;01mNone\u001b[39;00m\n\u001b[0;32m    683\u001b[0m \u001b[38;5;28;01mif\u001b[39;00m has_sw:\n",
      "File \u001b[1;32mc:\\Users\\akr\\AppData\\Local\\Programs\\Python\\Python311\\Lib\\site-packages\\sklearn\\base.py:621\u001b[0m, in \u001b[0;36mBaseEstimator._validate_data\u001b[1;34m(self, X, y, reset, validate_separately, cast_to_ndarray, **check_params)\u001b[0m\n\u001b[0;32m    619\u001b[0m         y \u001b[38;5;241m=\u001b[39m check_array(y, input_name\u001b[38;5;241m=\u001b[39m\u001b[38;5;124m\"\u001b[39m\u001b[38;5;124my\u001b[39m\u001b[38;5;124m\"\u001b[39m, \u001b[38;5;241m*\u001b[39m\u001b[38;5;241m*\u001b[39mcheck_y_params)\n\u001b[0;32m    620\u001b[0m     \u001b[38;5;28;01melse\u001b[39;00m:\n\u001b[1;32m--> 621\u001b[0m         X, y \u001b[38;5;241m=\u001b[39m \u001b[43mcheck_X_y\u001b[49m\u001b[43m(\u001b[49m\u001b[43mX\u001b[49m\u001b[43m,\u001b[49m\u001b[43m \u001b[49m\u001b[43my\u001b[49m\u001b[43m,\u001b[49m\u001b[43m \u001b[49m\u001b[38;5;241;43m*\u001b[39;49m\u001b[38;5;241;43m*\u001b[39;49m\u001b[43mcheck_params\u001b[49m\u001b[43m)\u001b[49m\n\u001b[0;32m    622\u001b[0m     out \u001b[38;5;241m=\u001b[39m X, y\n\u001b[0;32m    624\u001b[0m \u001b[38;5;28;01mif\u001b[39;00m \u001b[38;5;129;01mnot\u001b[39;00m no_val_X \u001b[38;5;129;01mand\u001b[39;00m check_params\u001b[38;5;241m.\u001b[39mget(\u001b[38;5;124m\"\u001b[39m\u001b[38;5;124mensure_2d\u001b[39m\u001b[38;5;124m\"\u001b[39m, \u001b[38;5;28;01mTrue\u001b[39;00m):\n",
      "File \u001b[1;32mc:\\Users\\akr\\AppData\\Local\\Programs\\Python\\Python311\\Lib\\site-packages\\sklearn\\utils\\validation.py:1163\u001b[0m, in \u001b[0;36mcheck_X_y\u001b[1;34m(X, y, accept_sparse, accept_large_sparse, dtype, order, copy, force_all_finite, ensure_2d, allow_nd, multi_output, ensure_min_samples, ensure_min_features, y_numeric, estimator)\u001b[0m\n\u001b[0;32m   1143\u001b[0m     \u001b[38;5;28;01mraise\u001b[39;00m \u001b[38;5;167;01mValueError\u001b[39;00m(\n\u001b[0;32m   1144\u001b[0m         \u001b[38;5;124mf\u001b[39m\u001b[38;5;124m\"\u001b[39m\u001b[38;5;132;01m{\u001b[39;00mestimator_name\u001b[38;5;132;01m}\u001b[39;00m\u001b[38;5;124m requires y to be passed, but the target y is None\u001b[39m\u001b[38;5;124m\"\u001b[39m\n\u001b[0;32m   1145\u001b[0m     )\n\u001b[0;32m   1147\u001b[0m X \u001b[38;5;241m=\u001b[39m check_array(\n\u001b[0;32m   1148\u001b[0m     X,\n\u001b[0;32m   1149\u001b[0m     accept_sparse\u001b[38;5;241m=\u001b[39maccept_sparse,\n\u001b[1;32m   (...)\u001b[0m\n\u001b[0;32m   1160\u001b[0m     input_name\u001b[38;5;241m=\u001b[39m\u001b[38;5;124m\"\u001b[39m\u001b[38;5;124mX\u001b[39m\u001b[38;5;124m\"\u001b[39m,\n\u001b[0;32m   1161\u001b[0m )\n\u001b[1;32m-> 1163\u001b[0m y \u001b[38;5;241m=\u001b[39m \u001b[43m_check_y\u001b[49m\u001b[43m(\u001b[49m\u001b[43my\u001b[49m\u001b[43m,\u001b[49m\u001b[43m \u001b[49m\u001b[43mmulti_output\u001b[49m\u001b[38;5;241;43m=\u001b[39;49m\u001b[43mmulti_output\u001b[49m\u001b[43m,\u001b[49m\u001b[43m \u001b[49m\u001b[43my_numeric\u001b[49m\u001b[38;5;241;43m=\u001b[39;49m\u001b[43my_numeric\u001b[49m\u001b[43m,\u001b[49m\u001b[43m \u001b[49m\u001b[43mestimator\u001b[49m\u001b[38;5;241;43m=\u001b[39;49m\u001b[43mestimator\u001b[49m\u001b[43m)\u001b[49m\n\u001b[0;32m   1165\u001b[0m check_consistent_length(X, y)\n\u001b[0;32m   1167\u001b[0m \u001b[38;5;28;01mreturn\u001b[39;00m X, y\n",
      "File \u001b[1;32mc:\\Users\\akr\\AppData\\Local\\Programs\\Python\\Python311\\Lib\\site-packages\\sklearn\\utils\\validation.py:1188\u001b[0m, in \u001b[0;36m_check_y\u001b[1;34m(y, multi_output, y_numeric, estimator)\u001b[0m\n\u001b[0;32m   1186\u001b[0m     _ensure_no_complex_data(y)\n\u001b[0;32m   1187\u001b[0m \u001b[38;5;28;01mif\u001b[39;00m y_numeric \u001b[38;5;129;01mand\u001b[39;00m y\u001b[38;5;241m.\u001b[39mdtype\u001b[38;5;241m.\u001b[39mkind \u001b[38;5;241m==\u001b[39m \u001b[38;5;124m\"\u001b[39m\u001b[38;5;124mO\u001b[39m\u001b[38;5;124m\"\u001b[39m:\n\u001b[1;32m-> 1188\u001b[0m     y \u001b[38;5;241m=\u001b[39m \u001b[43my\u001b[49m\u001b[38;5;241;43m.\u001b[39;49m\u001b[43mastype\u001b[49m\u001b[43m(\u001b[49m\u001b[43mnp\u001b[49m\u001b[38;5;241;43m.\u001b[39;49m\u001b[43mfloat64\u001b[49m\u001b[43m)\u001b[49m\n\u001b[0;32m   1190\u001b[0m \u001b[38;5;28;01mreturn\u001b[39;00m y\n",
      "\u001b[1;31mValueError\u001b[0m: could not convert string to float: '3,415,844,033'"
     ]
    }
   ],
   "source": [
    "from sklearn.linear_model import LinearRegression\n",
    "model = LinearRegression()\n",
    "model.fit(x_train,y_train)\n",
    "model.score(x_test,y_test)"
   ]
  },
  {
   "cell_type": "code",
   "execution_count": null,
   "metadata": {},
   "outputs": [],
   "source": []
  }
 ],
 "metadata": {
  "kernelspec": {
   "display_name": "Python 3",
   "language": "python",
   "name": "python3"
  },
  "language_info": {
   "codemirror_mode": {
    "name": "ipython",
    "version": 3
   },
   "file_extension": ".py",
   "mimetype": "text/x-python",
   "name": "python",
   "nbconvert_exporter": "python",
   "pygments_lexer": "ipython3",
   "version": "3.11.5"
  }
 },
 "nbformat": 4,
 "nbformat_minor": 2
}
